{
 "cells": [
  {
   "cell_type": "code",
   "execution_count": null,
   "metadata": {},
   "outputs": [],
   "source": [
    "%pip install scrapegraphai"
   ]
  },
  {
   "cell_type": "markdown",
   "metadata": {},
   "source": [
    "# Scraping with Scrapegraph-ai\n",
    "This is an open source library for making scraping with the use of the AI.\n",
    "In this case it is possible to do that with openai's api keys but you can do that with your own LLM or gemini. \n",
    "For more infos visit the following repo: [Link](https://github.com/VinciGit00/Scrapegraph-ai)"
   ]
  },
  {
   "cell_type": "code",
   "execution_count": 1,
   "metadata": {},
   "outputs": [],
   "source": [
    "# if you plan on using text_to_speech and GPT4-Vision models be sure to use the\n",
    "# correct APIKEY\n",
    "OPENAI_API_KEY = \"YOUR_API_KEY\""
   ]
  },
  {
   "cell_type": "code",
   "execution_count": 2,
   "metadata": {},
   "outputs": [
    {
     "name": "stderr",
     "output_type": "stream",
     "text": [
      "/Users/marcovinciguerra/miniconda3/envs/envpython/lib/python3.11/site-packages/tqdm/auto.py:21: TqdmWarning: IProgress not found. Please update jupyter and ipywidgets. See https://ipywidgets.readthedocs.io/en/stable/user_install.html\n",
      "  from .autonotebook import tqdm as notebook_tqdm\n"
     ]
    },
    {
     "name": "stdout",
     "output_type": "stream",
     "text": [
      "--- Executing Fetch Node ---\n",
      "Fetching content from: https://www.wired.com/\n"
     ]
    },
    {
     "name": "stderr",
     "output_type": "stream",
     "text": [
      "Fetching pages: 100%|##########| 1/1 [00:00<00:00,  3.57it/s]\n"
     ]
    },
    {
     "name": "stdout",
     "output_type": "stream",
     "text": [
      "--- Executing Parse Node ---\n",
      "--- Executing RAG Node ---\n",
      "--- (updated chunks metadata) ---\n",
      "--- (tokens compressed and vector stored) ---\n",
      "--- Executing GenerateAnswer Node ---\n"
     ]
    },
    {
     "name": "stderr",
     "output_type": "stream",
     "text": [
      "Processing chunks: 100%|██████████| 1/1 [00:00<00:00, 1506.03it/s]\n"
     ]
    },
    {
     "name": "stdout",
     "output_type": "stream",
     "text": [
      "{'merged_content': {'news': [{'title': 'Tip of the Iceberg', 'description': 'These Women Came to Antarctica for Science. Then the Predators Emerged. Jane Willenbring was the first to blow the whistle on sexual harassment and assault in Antarctica. Years later, women are still coming forward with tales of horror as a government investigation unfolds.'}, {'title': 'Cyber Army of One', 'description': 'A Vigilante Hacker Took Down North Korea’s Internet. Now He’s Taking Off His Mask. Andy Greenberg'}, {'title': 'Over the Moon', 'description': \"What's the Best Place to Watch the Solar Eclipse? This Simulator Can Help You Plan. Elissaveta M. Brandon\"}, {'title': \"Keyboard Nerds Won't Love Cherry's New MX2A Switch, and That's OK\", 'description': 'Henri Robbins'}, {'title': 'The Best Mobile Controllers for Gaming on the Go', 'description': 'Simon Hill and Louryn Strampe'}, {'title': 'The Fender Tone Master Pro Is an All-in-One Guitar Studio', 'description': 'Parker Hall'}, {'title': 'This Is the Ferrari of Field Recorders', 'description': 'Boone Ashworth'}, {'title': 'Watch the Total Solar Eclipse Online Here', 'description': 'Reece Rogers'}, {'title': 'He Emptied an Entire Crypto Exchange Onto a Thumb Drive. Then He Disappeared', 'description': 'Jenna Scatena'}, {'title': '‘$5,000 to Save a Life Is a Bargain’', 'description': 'Immoral calculus'}, {'title': 'The Deaths of Effective Altruism', 'description': 'A Tale of Two Cities'}, {'title': 'The Mayor of London Enters the Bullshit Cinematic Universe', 'description': 'Attention!'}, {'title': '8 Google Employees Invented Modern AI. Here’s the Inside Story', 'description': 'Business'}, {'title': 'Crypto Magnate Do Kwon Found Liable for Multibillion-Dollar Fraud', 'description': 'Business'}, {'title': 'This AI Startup Wants You to Talk to Houses, Cars, and Factories', 'description': 'Business'}, {'title': 'A TikTok Whistleblower Got DC’s Attention. Do His Claims Add Up?', 'description': 'Business'}, {'title': 'An Interview With a Guy Who Got a Vasectomy During the East Coast Earthquake', 'description': 'Culture'}, {'title': '_The Matrix_ Is Getting a Fifth Movie--Without a Wachowski Directing', 'description': 'Culture'}, {'title': 'The Best Queer Batman Parody You Almost Never Saw', 'description': 'Culture'}, {'title': 'The Best PlayStation VR2 Games to Play Right Now', 'description': 'Gear'}, {'title': 'The 7 Best Water Leak Detectors for Your Home', 'description': 'Gear'}, {'title': 'Review: Creative Aurvana Ace 2', 'description': 'Gear'}, {'title': 'The Solar Eclipse Is the Super Bowl for Conspiracists', 'description': 'Politics'}, {'title': 'The Influencers With as Much Presidential Access as the Press', 'description': 'Politics'}, {'title': 'US Navy Veteran Who Feds Say Rammed FBI Headquarters Had QAnon-Linked Online Presence', 'description': 'Politics'}, {'title': 'A Popular Alien-Hunting Technique Is Increasingly in Doubt', 'description': 'Science'}, {'title': \"Searching for 'Forever Chemicals' From an Endless Landfill Fire\", 'description': 'Science'}, {'title': 'How Will the Solar Eclipse Affect Animals? NASA Needs Your Help to Find Out', 'description': 'Science'}, {'title': 'It’s Time to Switch to a Privacy Browser', 'description': 'Security'}, {'title': 'Security News This Week: Identity Thief Lived as a Different Man for 33 Years', 'description': 'Security'}, {'title': 'The Mystery of ‘Jia Tan,’ the XZ Backdoor Mastermind', 'description': 'Security'}]}}\n"
     ]
    }
   ],
   "source": [
    "from scrapegraphai.graphs import SmartScraperGraph\n",
    "\n",
    "# Define the configuration for the graph\n",
    "graph_config = {\n",
    "    \"llm\": {\n",
    "        \"api_key\": OPENAI_API_KEY,\n",
    "        \"model\": \"gpt-3.5-turbo\",\n",
    "    },\n",
    "}\n",
    "\n",
    "# Create the SmartScraperGraph instance\n",
    "smart_scraper_graph = SmartScraperGraph(\n",
    "    prompt=\"List me all the news with their description.\",\n",
    "    file_source=\"https://www.wired.com/\",  # also accepts a string with the already downloaded HTML code in text format\n",
    "    config=graph_config\n",
    ")\n",
    "\n",
    "result = smart_scraper_graph.run()\n",
    "print(result)\n"
   ]
  }
 ],
 "metadata": {
  "kernelspec": {
   "display_name": "envpython",
   "language": "python",
   "name": "python3"
  },
  "language_info": {
   "codemirror_mode": {
    "name": "ipython",
    "version": 3
   },
   "file_extension": ".py",
   "mimetype": "text/x-python",
   "name": "python",
   "nbconvert_exporter": "python",
   "pygments_lexer": "ipython3",
   "version": "3.11.7"
  }
 },
 "nbformat": 4,
 "nbformat_minor": 2
}
